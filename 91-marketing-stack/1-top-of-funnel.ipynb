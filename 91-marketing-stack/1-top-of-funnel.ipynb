{
 "cells": [
  {
   "cell_type": "markdown",
   "id": "6ff310fd-b1cb-4e70-859f-c7c3c27793d1",
   "metadata": {},
   "source": [
    "# Top of the Funnel Marketing"
   ]
  },
  {
   "cell_type": "markdown",
   "id": "1aa0132d-7eec-4118-a5cd-30cacc672c37",
   "metadata": {},
   "source": [
    "### Introduction"
   ]
  },
  {
   "cell_type": "markdown",
   "id": "0c344354-2bc2-4111-8503-5ed29da577c0",
   "metadata": {},
   "source": [
    "In this lesson, we'll talk through a robust data and marketing analytics stack.  "
   ]
  },
  {
   "cell_type": "markdown",
   "id": "d38fb04a-44fa-4c31-ab0f-33d000108090",
   "metadata": {},
   "source": [
    "### Marketing Stack"
   ]
  },
  {
   "cell_type": "markdown",
   "id": "e4569989-8c28-421a-a0d1-1f7e1475030f",
   "metadata": {},
   "source": [
    "1. Top of the Funnel - Product Awareness"
   ]
  },
  {
   "cell_type": "markdown",
   "id": "40aa712a-f6b0-4ce9-bc64-440641bb5050",
   "metadata": {},
   "source": [
    "The first step in marketing is simply to make people aware of their product.  We'll identify three popular sources for generating awareness:\n",
    "\n",
    "* Content marketing \n",
    "* Paid Marketing\n",
    "* SEO (search)\n",
    "* Recommendations\n",
    "\n",
    "Let's go into each of these:\n",
    "\n",
    "A. Content Marketing \n",
    "* Types \n",
    "    * Blogs (SEO)\n",
    "    * Video\n",
    "        * Youtube, Vimeo\n",
    "* Distribution Channels\n",
    "    * Linkedin, Facebook, Youtube, Twitter, Reddit\n",
    "\n",
    "> We divided our content marketing by the *kind* of content marketing, for example, blogs, video or podcasts.  And then we also distinguished between the distribution channels of this content -- like Linkedin, Facebook, or Youtube."
   ]
  },
  {
   "cell_type": "markdown",
   "id": "ad9cfbe4-4366-4a7a-9516-03e4d5b3f426",
   "metadata": {},
   "source": [
    "B. Paid Marketing\n",
    "\n",
    "By paid marketing we mean generating awareness by paying for outside ads.  Online, this may mean paying Google or Facebook or media companies to list mentions of our product.  \n",
    "\n",
    "* Types\n",
    "    * Impressions: cheaper low conversion\n",
    "        * Facebook, Media buys (eg. newspaper, podcasts)\n",
    "        * Look alike campaigns\n",
    "    * Search Engine Marketing:  higher intent, higher conversion\n",
    "        * Google search marketing"
   ]
  },
  {
   "cell_type": "markdown",
   "id": "a6591ca2-18aa-482d-ab30-32de6896ae2c",
   "metadata": {},
   "source": [
    "> We divided our paid marketing channels into those based on impressions, and those based on search.  By impressions, we mean showing our product even when there is no search involved -- like when Facebook shows ads to a certain demographic.  With search engine marketing, our ad is shown when users have a related search.  Because search engine is more in response to what a user is looking for, it tends to have a higher click through rate."
   ]
  },
  {
   "cell_type": "markdown",
   "id": "7f063f8b-16f8-44be-880e-2f56ef6878c2",
   "metadata": {},
   "source": [
    "C. Organic Search \n",
    "\n",
    "By organic search, we mean users searching for similar products, or problems to be solved, and then arriving at our website through a search engine.  We can promote organic through search engine optimization. "
   ]
  },
  {
   "cell_type": "markdown",
   "id": "1491b3e9-de1a-43a9-ad3f-6d202d88f710",
   "metadata": {},
   "source": [
    "D. Recommendations"
   ]
  },
  {
   "cell_type": "markdown",
   "id": "c67b63a7-84c1-4a95-9957-3ceac064ea30",
   "metadata": {},
   "source": [
    "By recommendation, we mean a person hearing about our product through word of mouth, or learning about it through an online review.  We segment our recommendations because this kind of awareness is directly related to the performance of the product.\n",
    "\n",
    "It can be difficult to identify what is attributable to a recommendation - but we can get a sense of it, by tracking online reviews, surveying customers, specifically through net promoter score.\n",
    "\n",
    "Net Promoter Score is a response to the question:\n",
    "\n",
    "* On a scale of 0 to 10, how likely are you to recommend our business to a friend or colleague?\n",
    "\n",
    "> Only 9 and 10s are considered promoters, while 7 and 8 are considered neutral."
   ]
  },
  {
   "cell_type": "markdown",
   "id": "a2894ade-42ba-4d75-a586-962e69ced165",
   "metadata": {},
   "source": [
    "### Measuring Awareness"
   ]
  },
  {
   "cell_type": "markdown",
   "id": "b07bd9fc-1e01-405b-88a1-320aebef3e53",
   "metadata": {},
   "source": [
    "There are different costs to pursuing each of these models, either in terms of dollars or time.  And companies would like to measure how effective these channels can be.\n",
    "\n",
    "A. Content Marketing\n",
    "\n",
    "* Impressions\n",
    "\n",
    "For content marketing, the first way to track is simply through impressions -- which are often provided through the distribution channel.  \n",
    "\n",
    "* Conversions\n",
    "\n",
    "Normally, we'll write this content so that users ultimately click on our site.  To track the how many clicks each blog post or piece of content generates, we can write use a UTM code. \n"
   ]
  },
  {
   "cell_type": "markdown",
   "id": "fc8fe290-7979-431b-a20f-087b151245e4",
   "metadata": {},
   "source": [
    "> <img src=\"./utm-link.png\" width=\"60%\">"
   ]
  },
  {
   "cell_type": "markdown",
   "id": "553d8c36-d342-4ce4-9b70-6cf65296fd35",
   "metadata": {},
   "source": [
    "A utm code is simply a query paramter that we provide in the link.  When the user clicks on the link, these query parameters will also be part of the request. \n",
    "\n",
    "Then, a service like google analytics can look at these query parameters to identify the user as having come from that blog post.  In Google Analytics, we can see this with the following:  "
   ]
  },
  {
   "cell_type": "markdown",
   "id": "2823fbc4-ab91-4673-8ff3-98fe04c8c681",
   "metadata": {},
   "source": [
    "<img src=\"./utm-tracked.png\" width=\"60%\">"
   ]
  },
  {
   "cell_type": "markdown",
   "id": "6a377339-573d-4218-b3ec-485795b51335",
   "metadata": {},
   "source": [
    "Tracking the other kinds of marketing efforts is more straight forward."
   ]
  },
  {
   "cell_type": "markdown",
   "id": "04fcb93d-eb10-4341-9570-d63555a8a0ec",
   "metadata": {},
   "source": [
    "* Paid Marketing \n",
    "    * Identified through Facebook Ads or Google Ads\n",
    "* Organic Search \n",
    "    * Identified through Google Analytics\n",
    "* Recommendations\n",
    "    * Identified from reviews and NPS"
   ]
  }
 ],
 "metadata": {
  "kernelspec": {
   "display_name": "Python 3 (ipykernel)",
   "language": "python",
   "name": "python3"
  },
  "language_info": {
   "codemirror_mode": {
    "name": "ipython",
    "version": 3
   },
   "file_extension": ".py",
   "mimetype": "text/x-python",
   "name": "python",
   "nbconvert_exporter": "python",
   "pygments_lexer": "ipython3",
   "version": "3.9.7"
  }
 },
 "nbformat": 4,
 "nbformat_minor": 5
}
