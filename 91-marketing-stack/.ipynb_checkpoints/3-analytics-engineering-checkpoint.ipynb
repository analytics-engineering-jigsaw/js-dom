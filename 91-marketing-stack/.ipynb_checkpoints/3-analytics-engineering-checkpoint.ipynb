{
 "cells": [
  {
   "cell_type": "markdown",
   "id": "3dc4361d-c1a5-4b1a-9d02-16838de63497",
   "metadata": {},
   "source": [
    "# Analytics Engineering"
   ]
  },
  {
   "cell_type": "markdown",
   "id": "56b73344-cd9f-42c8-a889-c8af59d244fb",
   "metadata": {},
   "source": [
    "### Introduction"
   ]
  },
  {
   "cell_type": "markdown",
   "id": "33d7c2de-e2fd-48c6-a2a8-1fa6bce2d783",
   "metadata": {},
   "source": [
    "In the last couple of lessons, we have learned about the various tools involved in top of the funnel (awareness), middle of the funnel (nurturing), and bottom of the funnel (sales), and active users.  \n",
    "\n",
    "The next step is to learn about the data engineer's role in all of this."
   ]
  },
  {
   "cell_type": "markdown",
   "id": "ba690b9d-792f-4222-82cb-10b5e1284475",
   "metadata": {},
   "source": [
    "### 1. Dashboarding and Internal Analysis"
   ]
  },
  {
   "cell_type": "markdown",
   "id": "b698e280-dc8f-4676-9414-424d7c2afd38",
   "metadata": {},
   "source": [
    "The first component is in performing internal analysis.  This involves a stack of migrating data captured by our various marketing tools like Facebook ads for top of the funnel, event tracking for middle of the funnel, hubspot for bottom of the funnel, and stripe for payments.\n",
    "\n",
    "Ultimately, a company would want to what ads, site features, or sales efforts are driving users to make a purchase -- and which of these components are less productive.  Then ultimately, a company needs to see how these efforts tie to active users and ultimately revenue.\n",
    "\n",
    "To capture this information, a data engineer would be used to collect information in third party tools through an EL tool like Fivetran or Meltano, and load the data into an analytics database.  Then we would transform and merge information together with DBT, and ultimately present this in a dashboard, or organize data for further analysis by other stakeholders like data scientists or business analysts."
   ]
  },
  {
   "cell_type": "markdown",
   "id": "95417b43-b8dd-457f-a90b-84afb433b30a",
   "metadata": {},
   "source": [
    "### 2. Integrating Tools"
   ]
  },
  {
   "cell_type": "markdown",
   "id": "bf2c3d61-ecda-4c15-828a-9404714e9cf7",
   "metadata": {},
   "source": [
    "In addition to collecting data for internal analysis, data engineers help to enrich data on existing platforms.  There are a couple of ways that data engineers can assist with this."
   ]
  },
  {
   "cell_type": "markdown",
   "id": "541d9d2d-0ca4-4c6a-a7df-7e6010708829",
   "metadata": {},
   "source": [
    "1. Share data between SAAS tools\n",
    "\n",
    "One task of data engineers is to take data from one tool and populate that data into another tool.  For example, imagine that in hubspot the sales person identifies the industry of our customer.  If that person later asks to customer support through zendesk, it may be helpful to also indicate the industry of the user to provide more context.  Or maybe our web tracking software identifes the location of the user, and we want that information also captured in our sales tool like Hubspot. \n",
    "\n",
    "This process of capturing data from our tools to then load into other tools is called *reverse ETL*.  It's called reverse ETL because if ETL is pulling data from our third party tools to our analytics database, one way of populating these third party tools is loading data from our database into the tooling.\n",
    "\n",
    "Currently, there are off the shelf products that will automatically pull data from some tools and load it into others.  There are reverse tools like [Census](https://www.getcensus.com/).  And there are also Customer Data Platform (CDP web tracking), that both perform Reverse ETL, and also provide web tracking."
   ]
  },
  {
   "cell_type": "markdown",
   "id": "57dc82f6-a8f4-4f94-86ab-b9da297c23eb",
   "metadata": {},
   "source": [
    "2. CDP Web Tracking\n",
    "\n",
    "We've already heard about tools like Mixpanel or Google Analytics that already perform web tracking for us.  So why would we want a CDP to also perform web tracking?  The idea with web tracking with a CDP is just to have a single service that tracks various user events.  Then the CDP can send these events to Google Analytics to track certain web events, and *also* send these events to Mixpanel for other analysis.  \n",
    "\n",
    "The idea is to use the CDP as an event tracking API that multiple services can listen into.  Using the CDP reduces engineering work as we would not need to add separate code when different services want to listen to the same event.  Using a CDP also allows companies to change services they use with limited engineering cost.\n",
    "\n",
    "In theory, a Customer Data Platform is supposed to be a central data hub for our analytics service.  It listens to events sending event data to multiple services.  And it performs reverse ETL pulling data from one third party tool and sending it to another.  \n",
    "> Our data warehouse, by contrast, captures the data needed for internal analysis, but does not need to capture data related to reverse ETL as the CDP can take care of this."
   ]
  },
  {
   "cell_type": "markdown",
   "id": "7c8b52c3-44b0-44fb-9da4-e8359c2e5f5a",
   "metadata": {},
   "source": [
    "Examples of CDPs include [Rudderstack](https://rudderstack.com/),  [Segment](https://segment.com/) and [Snowplow](https://snowplowanalytics.com/)."
   ]
  },
  {
   "cell_type": "markdown",
   "id": "f9e75cd6-ebd8-4082-ba5a-3c94ca828bbf",
   "metadata": {},
   "source": [
    "3. Customer Enrichment Platform"
   ]
  },
  {
   "cell_type": "markdown",
   "id": "15e0309f-4c79-4c4c-b3c8-56ca940f8160",
   "metadata": {},
   "source": [
    "Finally, there exists information about our customer that exists that we may not be capturing internally, but other companies are capturing.  For example, with a service like [Clearbit](https://clearbit.com/), will attempt to identify visitors to our website, or we can send a captured email address to Clearbit, and it will pull in additional information to then send to other services."
   ]
  },
  {
   "cell_type": "markdown",
   "id": "d9f8f6a5-8cc6-4d1b-a328-7ce2fe1329a0",
   "metadata": {},
   "source": [
    "### Resources\n",
    "\n",
    "[Amplitude Guide to Product Analytics](https://amplitude.com/product-analytics)\n",
    "\n",
    "[Marketo Cost of Acquisition](https://www.youtube.com/watch?v=d626-SXyh8I)\n",
    "\n",
    "[Startup Founders Analytics](https://thinkgrowth.org/the-startup-founders-guide-to-analytics-1d2176f20ac1)"
   ]
  },
  {
   "cell_type": "markdown",
   "id": "a5af26b1-6fb7-45b3-a758-b133fc3d302a",
   "metadata": {},
   "source": [
    "[Rittman Analytics - Modern Stack](https://rittmananalytics.com/blog/category/Modern+Analytics+Stack)"
   ]
  }
 ],
 "metadata": {
  "kernelspec": {
   "display_name": "Python 3 (ipykernel)",
   "language": "python",
   "name": "python3"
  },
  "language_info": {
   "codemirror_mode": {
    "name": "ipython",
    "version": 3
   },
   "file_extension": ".py",
   "mimetype": "text/x-python",
   "name": "python",
   "nbconvert_exporter": "python",
   "pygments_lexer": "ipython3",
   "version": "3.9.7"
  }
 },
 "nbformat": 4,
 "nbformat_minor": 5
}
