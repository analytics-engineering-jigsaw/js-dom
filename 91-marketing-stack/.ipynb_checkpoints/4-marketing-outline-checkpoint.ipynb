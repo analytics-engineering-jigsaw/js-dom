{
 "cells": [
  {
   "cell_type": "markdown",
   "id": "9e429925-6aba-4b10-8d2c-02cb969c058d",
   "metadata": {},
   "source": [
    "# Marketing Outline"
   ]
  },
  {
   "cell_type": "markdown",
   "id": "793bced6-6085-4a59-a366-ddadfe3f4310",
   "metadata": {},
   "source": [
    "### Top of the Funnel"
   ]
  },
  {
   "cell_type": "markdown",
   "id": "22b30f20-200b-48ac-ad31-18fe7434cd2b",
   "metadata": {},
   "source": [
    "\n",
    "A. Content Marketing \n",
    "* Types \n",
    "    * Blogs (SEO)\n",
    "    * Video\n",
    "        * Youtube, Vimeo\n",
    "* Distribution Channels\n",
    "    * Linkedin, Facebook, Youtube, Twitter, Reddit\n",
    "    * Benefits: Can be evergreen (long term)\n",
    "* Analytics: \n",
    "    * Impressions\n",
    "    * Conversions (utm links)\n",
    "    \n",
    "B. Paid Marketing\n",
    "* Types\n",
    "    * Impressions - cheaper low conversion \n",
    "        * Facebook\n",
    "        * Look Alike Campaigns\n",
    "    * Search Engine Marketing: high intent, higher conversion\n",
    "        * Google Search\n",
    "    * Analytics\n",
    "        * Google Analytics \n",
    "        * Facebook Analytics\n",
    "        \n",
    "C. Organic search\n",
    "\n",
    "* Search engine optimization\n",
    "\n",
    "D. Recommendations\n",
    "\n",
    "    * NPS\n",
    "    * Online reviews\n",
    "> Closely tied to product"
   ]
  },
  {
   "cell_type": "code",
   "execution_count": null,
   "id": "896d33d8-ed81-48a5-acde-231917b4ab73",
   "metadata": {},
   "outputs": [],
   "source": []
  }
 ],
 "metadata": {
  "kernelspec": {
   "display_name": "Python 3 (ipykernel)",
   "language": "python",
   "name": "python3"
  },
  "language_info": {
   "codemirror_mode": {
    "name": "ipython",
    "version": 3
   },
   "file_extension": ".py",
   "mimetype": "text/x-python",
   "name": "python",
   "nbconvert_exporter": "python",
   "pygments_lexer": "ipython3",
   "version": "3.9.7"
  }
 },
 "nbformat": 4,
 "nbformat_minor": 5
}
